{
 "cells": [
  {
   "cell_type": "code",
   "execution_count": 171,
   "metadata": {},
   "outputs": [
    {
     "name": "stderr",
     "output_type": "stream",
     "text": [
      "C:\\Users\\sinad\\Miniconda3\\envs\\tensorflow\\lib\\site-packages\\ipykernel_launcher.py:4: ParserWarning: Falling back to the 'python' engine because the 'c' engine does not support regex separators (separators > 1 char and different from '\\s+' are interpreted as regex); you can avoid this warning by specifying engine='python'.\n",
      "  after removing the cwd from sys.path.\n"
     ]
    }
   ],
   "source": [
    "import pandas as pd\n",
    "\n",
    "url ='https://blast-recruiting.s3.eu-central-1.amazonaws.com/NAVIvsVitaGF-Nuke.txt'\n",
    "df = pd.read_csv(url, skiprows=0, header=None, sep='\\n+')"
   ]
  },
  {
   "cell_type": "code",
   "execution_count": null,
   "metadata": {},
   "outputs": [],
   "source": []
  },
  {
   "cell_type": "code",
   "execution_count": 172,
   "metadata": {},
   "outputs": [],
   "source": [
    "df2 = df.copy()"
   ]
  },
  {
   "cell_type": "code",
   "execution_count": null,
   "metadata": {},
   "outputs": [],
   "source": []
  },
  {
   "cell_type": "code",
   "execution_count": 173,
   "metadata": {},
   "outputs": [],
   "source": [
    "for i in range(0, len(df)):\n",
    "    df[0][i] = df[0][i][13:]\n",
    "    "
   ]
  },
  {
   "cell_type": "code",
   "execution_count": null,
   "metadata": {},
   "outputs": [],
   "source": []
  },
  {
   "cell_type": "code",
   "execution_count": 174,
   "metadata": {},
   "outputs": [],
   "source": [
    "time_row =[None] * 9172  \n",
    "log_row = [None] * 9172  \n",
    "for i in range(0, len(df)):\n",
    "    time_row[i] = df[0][i][:8]\n",
    "    log_row[i] = df[0][i][10:]"
   ]
  },
  {
   "cell_type": "code",
   "execution_count": null,
   "metadata": {},
   "outputs": [],
   "source": []
  },
  {
   "cell_type": "code",
   "execution_count": 175,
   "metadata": {},
   "outputs": [],
   "source": [
    "df_clean = pd.DataFrame()"
   ]
  },
  {
   "cell_type": "code",
   "execution_count": 176,
   "metadata": {},
   "outputs": [],
   "source": [
    "df_clean['time'] = time_row\n",
    "df_clean['log'] = log_row"
   ]
  },
  {
   "cell_type": "code",
   "execution_count": 177,
   "metadata": {},
   "outputs": [
    {
     "data": {
      "text/html": [
       "<div>\n",
       "<style scoped>\n",
       "    .dataframe tbody tr th:only-of-type {\n",
       "        vertical-align: middle;\n",
       "    }\n",
       "\n",
       "    .dataframe tbody tr th {\n",
       "        vertical-align: top;\n",
       "    }\n",
       "\n",
       "    .dataframe thead th {\n",
       "        text-align: right;\n",
       "    }\n",
       "</style>\n",
       "<table border=\"1\" class=\"dataframe\">\n",
       "  <thead>\n",
       "    <tr style=\"text-align: right;\">\n",
       "      <th></th>\n",
       "      <th>time</th>\n",
       "      <th>log</th>\n",
       "    </tr>\n",
       "  </thead>\n",
       "  <tbody>\n",
       "    <tr>\n",
       "      <th>0</th>\n",
       "      <td>20:26:14</td>\n",
       "      <td>\"electronic&lt;20&gt;&lt;BOT&gt;&lt;&gt;\" connected, address \"\"</td>\n",
       "    </tr>\n",
       "    <tr>\n",
       "      <th>1</th>\n",
       "      <td>20:26:14</td>\n",
       "      <td>\"electronic&lt;20&gt;&lt;BOT&gt;&lt;&gt;\" entered the game</td>\n",
       "    </tr>\n",
       "    <tr>\n",
       "      <th>2</th>\n",
       "      <td>20:26:14</td>\n",
       "      <td>\"(1)GOTV&lt;21&gt;&lt;BOT&gt;&lt;&gt;\" connected, address \"\"</td>\n",
       "    </tr>\n",
       "    <tr>\n",
       "      <th>3</th>\n",
       "      <td>20:26:14</td>\n",
       "      <td>\"(1)GOTV&lt;21&gt;&lt;BOT&gt;&lt;&gt;\" entered the game</td>\n",
       "    </tr>\n",
       "    <tr>\n",
       "      <th>4</th>\n",
       "      <td>20:26:14</td>\n",
       "      <td>World triggered \"Round_Start\"</td>\n",
       "    </tr>\n",
       "    <tr>\n",
       "      <th>...</th>\n",
       "      <td>...</td>\n",
       "      <td>...</td>\n",
       "    </tr>\n",
       "    <tr>\n",
       "      <th>9167</th>\n",
       "      <td>21:31:37</td>\n",
       "      <td>Your server needs to be restarted in order to ...</td>\n",
       "    </tr>\n",
       "    <tr>\n",
       "      <th>9168</th>\n",
       "      <td>21:31:38</td>\n",
       "      <td>[FACEIT] Blocked map de_nuke reserved command</td>\n",
       "    </tr>\n",
       "    <tr>\n",
       "      <th>9169</th>\n",
       "      <td>21:31:38</td>\n",
       "      <td>\"misutaaa&lt;36&gt;&lt;STEAM_1:1:60631591&gt;&lt;&gt;\" connected...</td>\n",
       "    </tr>\n",
       "    <tr>\n",
       "      <th>9170</th>\n",
       "      <td>21:31:38</td>\n",
       "      <td>\"misutaaa&lt;36&gt;&lt;STEAM_1:1:60631591&gt;&lt;&gt;\" disconnec...</td>\n",
       "    </tr>\n",
       "    <tr>\n",
       "      <th>9171</th>\n",
       "      <td>21:31:49</td>\n",
       "      <td>Your server needs to be restarted in order to ...</td>\n",
       "    </tr>\n",
       "  </tbody>\n",
       "</table>\n",
       "<p>9172 rows × 2 columns</p>\n",
       "</div>"
      ],
      "text/plain": [
       "          time                                                log\n",
       "0     20:26:14      \"electronic<20><BOT><>\" connected, address \"\"\n",
       "1     20:26:14           \"electronic<20><BOT><>\" entered the game\n",
       "2     20:26:14         \"(1)GOTV<21><BOT><>\" connected, address \"\"\n",
       "3     20:26:14              \"(1)GOTV<21><BOT><>\" entered the game\n",
       "4     20:26:14                      World triggered \"Round_Start\"\n",
       "...        ...                                                ...\n",
       "9167  21:31:37  Your server needs to be restarted in order to ...\n",
       "9168  21:31:38      [FACEIT] Blocked map de_nuke reserved command\n",
       "9169  21:31:38  \"misutaaa<36><STEAM_1:1:60631591><>\" connected...\n",
       "9170  21:31:38  \"misutaaa<36><STEAM_1:1:60631591><>\" disconnec...\n",
       "9171  21:31:49  Your server needs to be restarted in order to ...\n",
       "\n",
       "[9172 rows x 2 columns]"
      ]
     },
     "execution_count": 177,
     "metadata": {},
     "output_type": "execute_result"
    }
   ],
   "source": [
    "df_clean"
   ]
  },
  {
   "cell_type": "code",
   "execution_count": null,
   "metadata": {},
   "outputs": [],
   "source": []
  },
  {
   "cell_type": "code",
   "execution_count": null,
   "metadata": {},
   "outputs": [],
   "source": []
  },
  {
   "cell_type": "code",
   "execution_count": null,
   "metadata": {},
   "outputs": [],
   "source": [
    "\n"
   ]
  },
  {
   "cell_type": "code",
   "execution_count": 179,
   "metadata": {},
   "outputs": [],
   "source": [
    "def calculate_dif(times):\n",
    "    if times[0] == 'st' or times[1] == 'ed':\n",
    "        raise Exception(\"list is not set\")\n",
    "\n",
    "    h_d = int(times[1][:2]) - int(times[0][:2])\n",
    "    min_d = int(times[1][3:5]) - int(times[0][3:5])\n",
    "    sec_d = int(times[1][6:9]) - int(times[0][6:9])\n",
    "    \n",
    "    k = h_d * 3600 + min_d * 60 + sec_d\n",
    "\n",
    "    return k / 60"
   ]
  },
  {
   "cell_type": "code",
   "execution_count": null,
   "metadata": {},
   "outputs": [],
   "source": []
  },
  {
   "cell_type": "code",
   "execution_count": null,
   "metadata": {},
   "outputs": [],
   "source": []
  },
  {
   "cell_type": "code",
   "execution_count": 184,
   "metadata": {},
   "outputs": [
    {
     "data": {
      "image/png": "[encoded data removed]",
      "text/plain": [
       "<Figure size 432x288 with 1 Axes>"
      ]
     },
     "metadata": {
      "needs_background": "light"
     },
     "output_type": "display_data"
    }
   ],
   "source": [
    "# Analyze the Killing stat\n",
    "\n",
    "import re\n",
    "\n",
    "dict_kill = dict()\n",
    "\n",
    "for i in range(len(df_clean)):\n",
    "    lg =  df_clean['log'][i]\n",
    "    if 'killed' in lg:\n",
    "        kill_data = re.findall('\"([^\"]*)\"', lg)\n",
    "        \n",
    "        \n",
    "        killer = kill_data[0] \n",
    "        victim = kill_data[1]\n",
    "        weapon = kill_data[2]\n",
    "        if killer in dict_kill:\n",
    "            dict_kill[killer].append(victim)\n",
    "        else:\n",
    "            dict_kill[killer] = [victim]\n",
    "        \n",
    "# make a new dictionary that only holds the number of victims per each killer\n",
    "d_k = dict();\n",
    "for k, v in dict_kill.items():\n",
    "    d_k[k] = len(v)\n",
    "    \n",
    "# Sort based on the number of victims (i.e the values of the dictionary)\n",
    "sd_k = {k: v for k, v in sorted(d_k.items(), key=lambda item: item[1])}\n",
    "\n",
    "# plot the dictionary in a bar chart\n",
    "\n",
    "import matplotlib.pyplot as plt\n",
    "\n",
    "D = sd_k\n",
    "plt.bar(range(len(D)), list(D.values()), align='center')\n",
    "plt.xticks(range(len(D)), list(D.keys()))\n",
    "plt.xticks(rotation=90)\n",
    "\n",
    "plt.show()"
   ]
  },
  {
   "cell_type": "code",
   "execution_count": null,
   "metadata": {},
   "outputs": [],
   "source": []
  },
  {
   "cell_type": "code",
   "execution_count": null,
   "metadata": {},
   "outputs": [],
   "source": []
  },
  {
   "cell_type": "code",
   "execution_count": null,
   "metadata": {},
   "outputs": [],
   "source": []
  },
  {
   "cell_type": "code",
   "execution_count": 187,
   "metadata": {},
   "outputs": [
    {
     "name": "stdout",
     "output_type": "stream",
     "text": [
      "Round  1  :  {'Terrorist_team': 2, 'CT_team': 5}\n",
      "Round  2  :  {'Terrorist_team': 2, 'CT_team': 5}\n",
      "Round  3  :  {'Terrorist_team': 2, 'CT_team': 5}\n",
      "Round  4  :  {'Terrorist_team': 2, 'CT_team': 5}\n",
      "Round  5  :  {'Terrorist_team': 3, 'CT_team': 5}\n",
      "Round  6  :  {'Terrorist_team': 3, 'CT_team': 5}\n",
      "Round  7  :  {'Terrorist_team': 4, 'CT_team': 2}\n",
      "Round  8  :  {'Terrorist_team': 3, 'CT_team': 5}\n",
      "Round  9  :  {'Terrorist_team': 3, 'CT_team': 5}\n",
      "Round  10  :  {'Terrorist_team': 1, 'CT_team': 5}\n",
      "Round  11  :  {'Terrorist_team': 3, 'CT_team': 1}\n",
      "Round  12  :  {'Terrorist_team': 5, 'CT_team': 4}\n",
      "Round  13  :  {'Terrorist_team': 3, 'CT_team': 5}\n",
      "Round  14  :  {'Terrorist_team': 1, 'CT_team': 5}\n",
      "Round  15  :  {'Terrorist_team': 5, 'CT_team': 1}\n",
      "Round  16  :  {'Terrorist_team': 0, 'CT_team': 5}\n",
      "Round  17  :  {'Terrorist_team': 0, 'CT_team': 5}\n",
      "Round  18  :  {'Terrorist_team': 5, 'CT_team': 4}\n",
      "Round  19  :  {'Terrorist_team': 5, 'CT_team': 2}\n",
      "Round  20  :  {'Terrorist_team': 5, 'CT_team': 0}\n",
      "Round  21  :  {'Terrorist_team': 3, 'CT_team': 1}\n",
      "Round  22  :  {'Terrorist_team': 5, 'CT_team': 4}\n",
      "The average length of each round is  1.487878787878788 Minutes\n"
     ]
    }
   ],
   "source": [
    "# Score board and average length of each Round\n",
    "\n",
    "latest_round = ['st', 'ed']\n",
    "rounds_len = []\n",
    "\n",
    "scores = {'Terrorist_team':0, 'CT_team':0}\n",
    "\n",
    "for i in range(len(df_clean)):\n",
    "    lg =  df_clean['log'][i]\n",
    "    if 'Round_Start' in lg:\n",
    "        \n",
    "        # record the start time\n",
    "        latest_round[0] = df_clean['time'][i]\n",
    "        \n",
    "        # reset the score\n",
    "        scores['Terrorist_team'] = 0\n",
    "        scores['CT_team'] = 0\n",
    "        \n",
    "    if 'killed' in lg:\n",
    "        kill_data = re.findall('\"([^\"]*)\"', lg)\n",
    "        \n",
    "        \n",
    "        killer = kill_data[0] \n",
    "        victim = kill_data[1]\n",
    "        weapon = kill_data[2]\n",
    "        \n",
    "        if ('TERRORIST' in killer) and ('CT' in victim):\n",
    "            scores['Terrorist_team'] += 1\n",
    "        if ('TERRORIST' in victim) and ('CT' in killer):\n",
    "            scores['CT_team'] += 1\n",
    "            \n",
    "            \n",
    "    if 'Round_End'in lg:\n",
    "        \n",
    "        # Score board\n",
    "        print('Round ', len(rounds_len) + 1,\" : \", scores)\n",
    "        \n",
    "        # reset the score\n",
    "        scores['Terrorist_team'] = 0\n",
    "        scores['CT_team'] = 0\n",
    "        \n",
    "        # record the end time\n",
    "        latest_round[1] = df_clean['time'][i]\n",
    "        \n",
    "        # the difference between the time the round started and the time it ended\n",
    "        cd = calculate_dif(latest_round)\n",
    "        rounds_len.append(cd)\n",
    "        \n",
    "        # reset the timer\n",
    "        latest_round = ['st', 'ed']\n",
    "\n",
    "avg = sum(rounds_len)/len(rounds_len)\n",
    "print(\"The average length of each round is \",avg, \"Minutes\")"
   ]
  },
  {
   "cell_type": "code",
   "execution_count": null,
   "metadata": {},
   "outputs": [],
   "source": []
  },
  {
   "cell_type": "code",
   "execution_count": null,
   "metadata": {},
   "outputs": [],
   "source": []
  },
  {
   "cell_type": "code",
   "execution_count": null,
   "metadata": {},
   "outputs": [],
   "source": []
  },
  {
   "cell_type": "code",
   "execution_count": 79,
   "metadata": {},
   "outputs": [],
   "source": []
  },
  {
   "cell_type": "code",
   "execution_count": null,
   "metadata": {},
   "outputs": [],
   "source": []
  },
  {
   "cell_type": "code",
   "execution_count": null,
   "metadata": {},
   "outputs": [],
   "source": []
  },
  {
   "cell_type": "code",
   "execution_count": 70,
   "metadata": {},
   "outputs": [],
   "source": []
  },
  {
   "cell_type": "code",
   "execution_count": null,
   "metadata": {},
   "outputs": [],
   "source": []
  },
  {
   "cell_type": "code",
   "execution_count": null,
   "metadata": {},
   "outputs": [],
   "source": []
  },
  {
   "cell_type": "code",
   "execution_count": null,
   "metadata": {},
   "outputs": [],
   "source": []
  },
  {
   "cell_type": "code",
   "execution_count": null,
   "metadata": {},
   "outputs": [],
   "source": []
  },
  {
   "cell_type": "code",
   "execution_count": null,
   "metadata": {},
   "outputs": [],
   "source": []
  }
 ],
 "metadata": {
  "kernelspec": {
   "display_name": "Python 3.7 (tensorflow)",
   "language": "python",
   "name": "tensorflow"
  },
  "language_info": {
   "codemirror_mode": {
    "name": "ipython",
    "version": 3
   },
   "file_extension": ".py",
   "mimetype": "text/x-python",
   "name": "python",
   "nbconvert_exporter": "python",
   "pygments_lexer": "ipython3",
   "version": "3.7.6"
  }
 },
 "nbformat": 4,
 "nbformat_minor": 4
}
